{
 "cells": [
  {
   "cell_type": "code",
   "execution_count": 1,
   "metadata": {},
   "outputs": [],
   "source": [
    "#Language:    Python\n",
    "#Platform:    Jupyter Notebook\n",
    "#Creator:     Yulong WANG\n",
    "#Affiliation: University of Tokyo\n",
    "#Repository:  github.com/wangyulongdragon\n",
    "#Email:       yulong.wang[at]s.k.u-tokyo.a.jp\n",
    "#Linkedin:    linkedin.com/in/wangyulongdragon"
   ]
  },
  {
   "cell_type": "code",
   "execution_count": 2,
   "metadata": {},
   "outputs": [
    {
     "name": "stdout",
     "output_type": "stream",
     "text": [
      "Python version 3.6.4 |Anaconda, Inc.| (default, Jan 16 2018, 12:04:33) \n",
      "[GCC 4.2.1 Compatible Clang 4.0.1 (tags/RELEASE_401/final)]\n"
     ]
    }
   ],
   "source": [
    "import sys \n",
    "print('Python version ' + sys.version)"
   ]
  },
  {
   "cell_type": "markdown",
   "metadata": {},
   "source": [
    "## [1] Importing the necessary modules"
   ]
  },
  {
   "cell_type": "code",
   "execution_count": 3,
   "metadata": {},
   "outputs": [],
   "source": [
    "import sys\n",
    "import os\n",
    "import math\n",
    "import numpy as np\n",
    "import pandas as pd\n",
    "import seaborn as sns\n",
    "import matplotlib.pyplot as plt\n",
    "%matplotlib inline"
   ]
  },
  {
   "cell_type": "markdown",
   "metadata": {},
   "source": [
    "## [2] Checking the current directory"
   ]
  },
  {
   "cell_type": "code",
   "execution_count": 4,
   "metadata": {},
   "outputs": [
    {
     "name": "stdout",
     "output_type": "stream",
     "text": [
      "/Users/yulong/Documents/GitHub/population-pyramid-plotting\n"
     ]
    }
   ],
   "source": [
    "cwd = os.getcwd()\n",
    "print(cwd)"
   ]
  },
  {
   "cell_type": "markdown",
   "metadata": {},
   "source": [
    "## [3] Changing the directory"
   ]
  },
  {
   "cell_type": "code",
   "execution_count": 5,
   "metadata": {},
   "outputs": [
    {
     "name": "stdout",
     "output_type": "stream",
     "text": [
      "/Users/yulong/Documents/GitHub/population-pyramid-plotting\n"
     ]
    }
   ],
   "source": [
    "# Not necessary \n",
    "# os.chdir(r\"/Users/yulong/OneDrive - The University of Tokyo/demographic\")\n",
    "print(os.getcwd())"
   ]
  },
  {
   "cell_type": "markdown",
   "metadata": {},
   "source": [
    "## [4] Opening the dataset"
   ]
  },
  {
   "cell_type": "code",
   "execution_count": 6,
   "metadata": {},
   "outputs": [],
   "source": [
    "# The data can be downloaded, and also imported directly from the city hall homepage."
   ]
  },
  {
   "cell_type": "code",
   "execution_count": 7,
   "metadata": {},
   "outputs": [],
   "source": [
    "# dirpath=\"./\"\n",
    "# fpath = dirpath + \"3_h2910.xlsx\"\n",
    "fpath ='http://www.city.kashiwa.lg.jp/soshiki/020800/p034465_d/fil/3_h3004.xlsx'\n",
    "chome = [\"柏の葉１丁目\",\"柏の葉２丁目\",\"柏の葉３丁目\",\"柏の葉４丁目\",\"柏の葉５丁目\",\"柏の葉６丁目\"]"
   ]
  },
  {
   "cell_type": "markdown",
   "metadata": {},
   "source": [
    "### Module 01 Extract useful data."
   ]
  },
  {
   "cell_type": "code",
   "execution_count": 8,
   "metadata": {},
   "outputs": [],
   "source": [
    "def getxlsx(fpath,chome):\n",
    "    df = pd.DataFrame(pd.read_excel(fpath,skiprows=1))\n",
    "    df = df.set_index('大字名')\n",
    "    data = df.loc[chome]\n",
    "    return data"
   ]
  },
  {
   "cell_type": "code",
   "execution_count": 9,
   "metadata": {},
   "outputs": [
    {
     "data": {
      "text/html": [
       "<div>\n",
       "<style scoped>\n",
       "    .dataframe tbody tr th:only-of-type {\n",
       "        vertical-align: middle;\n",
       "    }\n",
       "\n",
       "    .dataframe tbody tr th {\n",
       "        vertical-align: top;\n",
       "    }\n",
       "\n",
       "    .dataframe thead th {\n",
       "        text-align: right;\n",
       "    }\n",
       "</style>\n",
       "<table border=\"1\" class=\"dataframe\">\n",
       "  <thead>\n",
       "    <tr style=\"text-align: right;\">\n",
       "      <th></th>\n",
       "      <th>男</th>\n",
       "      <th>女</th>\n",
       "      <th>男.1</th>\n",
       "      <th>女.1</th>\n",
       "      <th>男.2</th>\n",
       "      <th>女.2</th>\n",
       "      <th>男.3</th>\n",
       "      <th>女.3</th>\n",
       "      <th>男.4</th>\n",
       "      <th>女.4</th>\n",
       "      <th>...</th>\n",
       "      <th>男.101</th>\n",
       "      <th>女.101</th>\n",
       "      <th>男.102</th>\n",
       "      <th>女.102</th>\n",
       "      <th>男.103</th>\n",
       "      <th>女.103</th>\n",
       "      <th>男.104</th>\n",
       "      <th>女.104</th>\n",
       "      <th>男.105</th>\n",
       "      <th>女.105</th>\n",
       "    </tr>\n",
       "    <tr>\n",
       "      <th>大字名</th>\n",
       "      <th></th>\n",
       "      <th></th>\n",
       "      <th></th>\n",
       "      <th></th>\n",
       "      <th></th>\n",
       "      <th></th>\n",
       "      <th></th>\n",
       "      <th></th>\n",
       "      <th></th>\n",
       "      <th></th>\n",
       "      <th></th>\n",
       "      <th></th>\n",
       "      <th></th>\n",
       "      <th></th>\n",
       "      <th></th>\n",
       "      <th></th>\n",
       "      <th></th>\n",
       "      <th></th>\n",
       "      <th></th>\n",
       "      <th></th>\n",
       "      <th></th>\n",
       "    </tr>\n",
       "  </thead>\n",
       "  <tbody>\n",
       "    <tr>\n",
       "      <th>柏の葉１丁目</th>\n",
       "      <td>0.0</td>\n",
       "      <td>2.0</td>\n",
       "      <td>0.0</td>\n",
       "      <td>0.0</td>\n",
       "      <td>4.0</td>\n",
       "      <td>0.0</td>\n",
       "      <td>0.0</td>\n",
       "      <td>0.0</td>\n",
       "      <td>2.0</td>\n",
       "      <td>1.0</td>\n",
       "      <td>...</td>\n",
       "      <td>0.0</td>\n",
       "      <td>0.0</td>\n",
       "      <td>0.0</td>\n",
       "      <td>0.0</td>\n",
       "      <td>0.0</td>\n",
       "      <td>0.0</td>\n",
       "      <td>0.0</td>\n",
       "      <td>0</td>\n",
       "      <td>236</td>\n",
       "      <td>231</td>\n",
       "    </tr>\n",
       "    <tr>\n",
       "      <th>柏の葉２丁目</th>\n",
       "      <td>6.0</td>\n",
       "      <td>3.0</td>\n",
       "      <td>7.0</td>\n",
       "      <td>7.0</td>\n",
       "      <td>5.0</td>\n",
       "      <td>10.0</td>\n",
       "      <td>7.0</td>\n",
       "      <td>6.0</td>\n",
       "      <td>8.0</td>\n",
       "      <td>3.0</td>\n",
       "      <td>...</td>\n",
       "      <td>0.0</td>\n",
       "      <td>0.0</td>\n",
       "      <td>0.0</td>\n",
       "      <td>0.0</td>\n",
       "      <td>0.0</td>\n",
       "      <td>0.0</td>\n",
       "      <td>0.0</td>\n",
       "      <td>0</td>\n",
       "      <td>532</td>\n",
       "      <td>544</td>\n",
       "    </tr>\n",
       "    <tr>\n",
       "      <th>柏の葉３丁目</th>\n",
       "      <td>1.0</td>\n",
       "      <td>2.0</td>\n",
       "      <td>2.0</td>\n",
       "      <td>0.0</td>\n",
       "      <td>5.0</td>\n",
       "      <td>2.0</td>\n",
       "      <td>4.0</td>\n",
       "      <td>1.0</td>\n",
       "      <td>4.0</td>\n",
       "      <td>2.0</td>\n",
       "      <td>...</td>\n",
       "      <td>0.0</td>\n",
       "      <td>0.0</td>\n",
       "      <td>0.0</td>\n",
       "      <td>0.0</td>\n",
       "      <td>0.0</td>\n",
       "      <td>0.0</td>\n",
       "      <td>0.0</td>\n",
       "      <td>0</td>\n",
       "      <td>440</td>\n",
       "      <td>458</td>\n",
       "    </tr>\n",
       "  </tbody>\n",
       "</table>\n",
       "<p>3 rows × 212 columns</p>\n",
       "</div>"
      ],
      "text/plain": [
       "          男    女  男.1  女.1  男.2   女.2  男.3  女.3  男.4  女.4  ...    男.101  \\\n",
       "大字名                                                        ...            \n",
       "柏の葉１丁目  0.0  2.0  0.0  0.0  4.0   0.0  0.0  0.0  2.0  1.0  ...      0.0   \n",
       "柏の葉２丁目  6.0  3.0  7.0  7.0  5.0  10.0  7.0  6.0  8.0  3.0  ...      0.0   \n",
       "柏の葉３丁目  1.0  2.0  2.0  0.0  5.0   2.0  4.0  1.0  4.0  2.0  ...      0.0   \n",
       "\n",
       "        女.101  男.102  女.102  男.103  女.103  男.104  女.104  男.105  女.105  \n",
       "大字名                                                                    \n",
       "柏の葉１丁目    0.0    0.0    0.0    0.0    0.0    0.0      0    236    231  \n",
       "柏の葉２丁目    0.0    0.0    0.0    0.0    0.0    0.0      0    532    544  \n",
       "柏の葉３丁目    0.0    0.0    0.0    0.0    0.0    0.0      0    440    458  \n",
       "\n",
       "[3 rows x 212 columns]"
      ]
     },
     "execution_count": 9,
     "metadata": {},
     "output_type": "execute_result"
    }
   ],
   "source": [
    "# A test result:\n",
    "getxlsx(fpath,chome).head(3)\n",
    "# In columes of 'Gender.number', the number represents the colume number which had been skipped in the 1st row.\n",
    "# '男.105' and '女.105' are sums."
   ]
  },
  {
   "cell_type": "markdown",
   "metadata": {},
   "source": [
    "### Module 02 Divide male and female."
   ]
  },
  {
   "cell_type": "code",
   "execution_count": 10,
   "metadata": {},
   "outputs": [],
   "source": [
    "def divma(data):\n",
    "    lst = [i for i in range(212)]\n",
    "    dfma = data.iloc[:, lst[0::2]]\n",
    "    return dfma\n",
    "\n",
    "def divfe(data):\n",
    "    lst = [i for i in range(212)]\n",
    "    dffe = data.iloc[:, lst[1::2]]\n",
    "    return dffe * (-1)"
   ]
  },
  {
   "cell_type": "code",
   "execution_count": 11,
   "metadata": {},
   "outputs": [
    {
     "data": {
      "text/html": [
       "<div>\n",
       "<style scoped>\n",
       "    .dataframe tbody tr th:only-of-type {\n",
       "        vertical-align: middle;\n",
       "    }\n",
       "\n",
       "    .dataframe tbody tr th {\n",
       "        vertical-align: top;\n",
       "    }\n",
       "\n",
       "    .dataframe thead th {\n",
       "        text-align: right;\n",
       "    }\n",
       "</style>\n",
       "<table border=\"1\" class=\"dataframe\">\n",
       "  <thead>\n",
       "    <tr style=\"text-align: right;\">\n",
       "      <th></th>\n",
       "      <th>男</th>\n",
       "      <th>男.1</th>\n",
       "      <th>男.2</th>\n",
       "      <th>男.3</th>\n",
       "      <th>男.4</th>\n",
       "      <th>男.5</th>\n",
       "      <th>男.6</th>\n",
       "      <th>男.7</th>\n",
       "      <th>男.8</th>\n",
       "      <th>男.9</th>\n",
       "      <th>...</th>\n",
       "      <th>男.96</th>\n",
       "      <th>男.97</th>\n",
       "      <th>男.98</th>\n",
       "      <th>男.99</th>\n",
       "      <th>男.100</th>\n",
       "      <th>男.101</th>\n",
       "      <th>男.102</th>\n",
       "      <th>男.103</th>\n",
       "      <th>男.104</th>\n",
       "      <th>男.105</th>\n",
       "    </tr>\n",
       "    <tr>\n",
       "      <th>大字名</th>\n",
       "      <th></th>\n",
       "      <th></th>\n",
       "      <th></th>\n",
       "      <th></th>\n",
       "      <th></th>\n",
       "      <th></th>\n",
       "      <th></th>\n",
       "      <th></th>\n",
       "      <th></th>\n",
       "      <th></th>\n",
       "      <th></th>\n",
       "      <th></th>\n",
       "      <th></th>\n",
       "      <th></th>\n",
       "      <th></th>\n",
       "      <th></th>\n",
       "      <th></th>\n",
       "      <th></th>\n",
       "      <th></th>\n",
       "      <th></th>\n",
       "      <th></th>\n",
       "    </tr>\n",
       "  </thead>\n",
       "  <tbody>\n",
       "    <tr>\n",
       "      <th>柏の葉１丁目</th>\n",
       "      <td>0.0</td>\n",
       "      <td>0.0</td>\n",
       "      <td>4.0</td>\n",
       "      <td>0.0</td>\n",
       "      <td>2.0</td>\n",
       "      <td>3.0</td>\n",
       "      <td>1.0</td>\n",
       "      <td>3.0</td>\n",
       "      <td>0.0</td>\n",
       "      <td>1.0</td>\n",
       "      <td>...</td>\n",
       "      <td>0.0</td>\n",
       "      <td>0.0</td>\n",
       "      <td>0.0</td>\n",
       "      <td>0.0</td>\n",
       "      <td>0.0</td>\n",
       "      <td>0.0</td>\n",
       "      <td>0.0</td>\n",
       "      <td>0.0</td>\n",
       "      <td>0.0</td>\n",
       "      <td>236</td>\n",
       "    </tr>\n",
       "    <tr>\n",
       "      <th>柏の葉２丁目</th>\n",
       "      <td>6.0</td>\n",
       "      <td>7.0</td>\n",
       "      <td>5.0</td>\n",
       "      <td>7.0</td>\n",
       "      <td>8.0</td>\n",
       "      <td>8.0</td>\n",
       "      <td>9.0</td>\n",
       "      <td>4.0</td>\n",
       "      <td>7.0</td>\n",
       "      <td>2.0</td>\n",
       "      <td>...</td>\n",
       "      <td>0.0</td>\n",
       "      <td>0.0</td>\n",
       "      <td>0.0</td>\n",
       "      <td>0.0</td>\n",
       "      <td>0.0</td>\n",
       "      <td>0.0</td>\n",
       "      <td>0.0</td>\n",
       "      <td>0.0</td>\n",
       "      <td>0.0</td>\n",
       "      <td>532</td>\n",
       "    </tr>\n",
       "    <tr>\n",
       "      <th>柏の葉３丁目</th>\n",
       "      <td>1.0</td>\n",
       "      <td>2.0</td>\n",
       "      <td>5.0</td>\n",
       "      <td>4.0</td>\n",
       "      <td>4.0</td>\n",
       "      <td>2.0</td>\n",
       "      <td>4.0</td>\n",
       "      <td>6.0</td>\n",
       "      <td>5.0</td>\n",
       "      <td>2.0</td>\n",
       "      <td>...</td>\n",
       "      <td>0.0</td>\n",
       "      <td>0.0</td>\n",
       "      <td>0.0</td>\n",
       "      <td>0.0</td>\n",
       "      <td>0.0</td>\n",
       "      <td>0.0</td>\n",
       "      <td>0.0</td>\n",
       "      <td>0.0</td>\n",
       "      <td>0.0</td>\n",
       "      <td>440</td>\n",
       "    </tr>\n",
       "  </tbody>\n",
       "</table>\n",
       "<p>3 rows × 106 columns</p>\n",
       "</div>"
      ],
      "text/plain": [
       "          男  男.1  男.2  男.3  男.4  男.5  男.6  男.7  男.8  男.9  ...    男.96  男.97  \\\n",
       "大字名                                                       ...                 \n",
       "柏の葉１丁目  0.0  0.0  4.0  0.0  2.0  3.0  1.0  3.0  0.0  1.0  ...     0.0   0.0   \n",
       "柏の葉２丁目  6.0  7.0  5.0  7.0  8.0  8.0  9.0  4.0  7.0  2.0  ...     0.0   0.0   \n",
       "柏の葉３丁目  1.0  2.0  5.0  4.0  4.0  2.0  4.0  6.0  5.0  2.0  ...     0.0   0.0   \n",
       "\n",
       "        男.98  男.99  男.100  男.101  男.102  男.103  男.104  男.105  \n",
       "大字名                                                           \n",
       "柏の葉１丁目   0.0   0.0    0.0    0.0    0.0    0.0    0.0    236  \n",
       "柏の葉２丁目   0.0   0.0    0.0    0.0    0.0    0.0    0.0    532  \n",
       "柏の葉３丁目   0.0   0.0    0.0    0.0    0.0    0.0    0.0    440  \n",
       "\n",
       "[3 rows x 106 columns]"
      ]
     },
     "execution_count": 11,
     "metadata": {},
     "output_type": "execute_result"
    }
   ],
   "source": [
    "# A test result of male population:\n",
    "divma((getxlsx(fpath,chome))).head(3)"
   ]
  },
  {
   "cell_type": "markdown",
   "metadata": {},
   "source": [
    "### Module 03 Get population in each age group."
   ]
  },
  {
   "cell_type": "code",
   "execution_count": 12,
   "metadata": {},
   "outputs": [],
   "source": [
    "def getsum(data):\n",
    "    result = []\n",
    "    for i in range(data.shape[1]-1):\n",
    "        result.append(data.iloc[0:,i].sum())\n",
    "    return result"
   ]
  },
  {
   "cell_type": "code",
   "execution_count": 13,
   "metadata": {
    "scrolled": false
   },
   "outputs": [
    {
     "data": {
      "text/plain": [
       "[<matplotlib.lines.Line2D at 0x11258d160>]"
      ]
     },
     "execution_count": 13,
     "metadata": {},
     "output_type": "execute_result"
    },
    {
     "data": {
      "image/png": "[encoded data removed]",
      "text/plain": [
       "<matplotlib.figure.Figure at 0x112225dd8>"
      ]
     },
     "metadata": {},
     "output_type": "display_data"
    }
   ],
   "source": [
    "# A test result of male population distribution alone ages:\n",
    "plt.plot(getsum(divma(getxlsx(fpath,chome))))"
   ]
  },
  {
   "cell_type": "code",
   "execution_count": 14,
   "metadata": {},
   "outputs": [],
   "source": [
    "def getave(data,step):\n",
    "    result = []\n",
    "    for i in range(math.ceil(len(data)/step)):\n",
    "        result.append(int(pd.DataFrame(data).iloc[i*step:(i+1)*step].sum()))\n",
    "    return result"
   ]
  },
  {
   "cell_type": "code",
   "execution_count": 15,
   "metadata": {},
   "outputs": [
    {
     "data": {
      "text/plain": [
       "[<matplotlib.lines.Line2D at 0x1123512b0>]"
      ]
     },
     "execution_count": 15,
     "metadata": {},
     "output_type": "execute_result"
    },
    {
     "data": {
      "image/png": "[encoded data removed]",
      "text/plain": [
       "<matplotlib.figure.Figure at 0x1123708d0>"
      ]
     },
     "metadata": {},
     "output_type": "display_data"
    }
   ],
   "source": [
    "# A test result of male population distribution alone ages:\n",
    "plt.plot(getave(getsum(divma(getxlsx(fpath,chome))),5))"
   ]
  },
  {
   "cell_type": "markdown",
   "metadata": {},
   "source": [
    "## [5] Build a new dataset"
   ]
  },
  {
   "cell_type": "code",
   "execution_count": 16,
   "metadata": {},
   "outputs": [],
   "source": [
    "step = 5\n",
    "data = {'M': getave(getsum(divma(getxlsx(fpath,chome))),step), \n",
    "        'F': getave(getsum(divfe(getxlsx(fpath,chome))),step),\n",
    "        'index': ['0-4','5-9','10-14','15-19','20-24','25-29','30-34','35-39','40-44','45-49',\n",
    "                  '50-54','55-59','60-64','65-69','70-74','75-79','80-84','85-89','90-94','95-99',\n",
    "                  '100-104'], \n",
    "        }\n",
    "Pyramid_Data = pd.DataFrame(data)"
   ]
  },
  {
   "cell_type": "code",
   "execution_count": 17,
   "metadata": {},
   "outputs": [
    {
     "data": {
      "text/html": [
       "<div>\n",
       "<style scoped>\n",
       "    .dataframe tbody tr th:only-of-type {\n",
       "        vertical-align: middle;\n",
       "    }\n",
       "\n",
       "    .dataframe tbody tr th {\n",
       "        vertical-align: top;\n",
       "    }\n",
       "\n",
       "    .dataframe thead th {\n",
       "        text-align: right;\n",
       "    }\n",
       "</style>\n",
       "<table border=\"1\" class=\"dataframe\">\n",
       "  <thead>\n",
       "    <tr style=\"text-align: right;\">\n",
       "      <th></th>\n",
       "      <th>F</th>\n",
       "      <th>M</th>\n",
       "      <th>index</th>\n",
       "    </tr>\n",
       "  </thead>\n",
       "  <tbody>\n",
       "    <tr>\n",
       "      <th>0</th>\n",
       "      <td>-107</td>\n",
       "      <td>129</td>\n",
       "      <td>0-4</td>\n",
       "    </tr>\n",
       "    <tr>\n",
       "      <th>1</th>\n",
       "      <td>-96</td>\n",
       "      <td>106</td>\n",
       "      <td>5-9</td>\n",
       "    </tr>\n",
       "    <tr>\n",
       "      <th>2</th>\n",
       "      <td>-74</td>\n",
       "      <td>77</td>\n",
       "      <td>10-14</td>\n",
       "    </tr>\n",
       "  </tbody>\n",
       "</table>\n",
       "</div>"
      ],
      "text/plain": [
       "     F    M  index\n",
       "0 -107  129    0-4\n",
       "1  -96  106    5-9\n",
       "2  -74   77  10-14"
      ]
     },
     "execution_count": 17,
     "metadata": {},
     "output_type": "execute_result"
    }
   ],
   "source": [
    "# A test result of dataset of both female and male population distribution alone ages:\n",
    "Pyramid_Data.head(3)"
   ]
  },
  {
   "cell_type": "code",
   "execution_count": 18,
   "metadata": {},
   "outputs": [
    {
     "data": {
      "text/plain": [
       "Index(['F', 'M', 'index'], dtype='object')"
      ]
     },
     "execution_count": 18,
     "metadata": {},
     "output_type": "execute_result"
    }
   ],
   "source": [
    "Pyramid_Data.columns"
   ]
  },
  {
   "cell_type": "markdown",
   "metadata": {},
   "source": [
    "## [6] Plot Histogram"
   ]
  },
  {
   "cell_type": "code",
   "execution_count": 19,
   "metadata": {},
   "outputs": [
    {
     "data": {
      "text/plain": [
       "[Text(0,0.5,'Age-Group'),\n",
       " Text(0.5,0,'Population'),\n",
       " Text(0.5,1,'Male Population')]"
      ]
     },
     "execution_count": 19,
     "metadata": {},
     "output_type": "execute_result"
    },
    {
     "data": {
      "image/png": "[encoded data removed]",
      "text/plain": [
       "<matplotlib.figure.Figure at 0x1124106d8>"
      ]
     },
     "metadata": {},
     "output_type": "display_data"
    }
   ],
   "source": [
    "sns.set_style(\"white\")\n",
    "bar_plot = sns.barplot(y = 'index', x = \"M\", color = \"blue\", data = Pyramid_Data)\n",
    "# sns is seaborn alias\n",
    "bar_plot.set(ylabel=\"Age-Group\", xlabel=\"Population\", title = \"Male Population\")"
   ]
  },
  {
   "cell_type": "code",
   "execution_count": 20,
   "metadata": {},
   "outputs": [
    {
     "data": {
      "text/plain": [
       "[Text(0,0.5,'Age-Group'),\n",
       " Text(0.5,0,'Population'),\n",
       " Text(0.5,1,'Population Pyramid')]"
      ]
     },
     "execution_count": 20,
     "metadata": {},
     "output_type": "execute_result"
    },
    {
     "data": {
      "image/png": "[encoded data removed]",
      "text/plain": [
       "<matplotlib.figure.Figure at 0x114ab7710>"
      ]
     },
     "metadata": {},
     "output_type": "display_data"
    }
   ],
   "source": [
    "sns.set_style(\"white\")\n",
    "#sns.set_color_codes(\"pastel\")\n",
    "bar_plot = sns.barplot(y = 'index', x = \"F\", color = \"red\", data = Pyramid_Data)\n",
    "bar_plot = sns.barplot(y = 'index', x = \"M\", color = \"blue\", data = Pyramid_Data)\n",
    "# sns is seaborn alias\n",
    "bar_plot.set(ylabel=\"Age-Group\", xlabel=\"Population\", title = \"Population Pyramid\")"
   ]
  },
  {
   "cell_type": "code",
   "execution_count": 21,
   "metadata": {},
   "outputs": [
    {
     "data": {
      "text/plain": [
       "[Text(0,0.5,'Age-Group'),\n",
       " Text(0.5,0,'Population'),\n",
       " Text(0.5,1,'Population Pyramid of Kashiwanoha Area (Oct.2017)')]"
      ]
     },
     "execution_count": 21,
     "metadata": {},
     "output_type": "execute_result"
    },
    {
     "data": {
      "image/png": "[encoded data removed]",
      "text/plain": [
       "<matplotlib.figure.Figure at 0x114f3b470>"
      ]
     },
     "metadata": {},
     "output_type": "display_data"
    }
   ],
   "source": [
    "sns.set_style(\"white\")\n",
    "#sns.set_color_codes(\"pastel\")\n",
    "bar_plot = sns.barplot(y = 'index', x = \"F\", color = \"red\", data = Pyramid_Data,\n",
    "                      order = ['100-104','95-99','90-94','85-89','80-84',\n",
    "                               '70-74','75-79','65-69','60-64','55-59',\n",
    "                               '50-54','45-49','40-44','35-39','30-34',\n",
    "                               '25-29','20-24','15-19','10-14','5-9','0-4'])\n",
    "bar_plot = sns.barplot(y = 'index', x = \"M\", color = \"blue\", data = Pyramid_Data,\n",
    "                      order = ['100-104','95-99','90-94','85-89','80-84',\n",
    "                               '70-74','75-79','65-69','60-64','55-59',\n",
    "                               '50-54','45-49','40-44','35-39','30-34',\n",
    "                               '25-29','20-24','15-19','10-14','5-9','0-4'])\n",
    "# sns is seaborn alias\n",
    "bar_plot.set(ylabel=\"Age-Group\", xlabel=\"Population\", title = \"Population Pyramid of Kashiwanoha Area (Oct.2017)\")"
   ]
  },
  {
   "cell_type": "markdown",
   "metadata": {},
   "source": [
    "Referance: \n",
    "\n",
    "* https://github.com/afolaborn/Python_Jupyter_Notebook/tree/master/Population-Pyramid\n",
    "\n",
    "* http://pda.readthedocs.io/en/latest/chp5.html"
   ]
  },
  {
   "cell_type": "code",
   "execution_count": null,
   "metadata": {},
   "outputs": [],
   "source": []
  }
 ],
 "metadata": {
  "kernelspec": {
   "display_name": "Python 3",
   "language": "python",
   "name": "python3"
  },
  "language_info": {
   "codemirror_mode": {
    "name": "ipython",
    "version": 3
   },
   "file_extension": ".py",
   "mimetype": "text/x-python",
   "name": "python",
   "nbconvert_exporter": "python",
   "pygments_lexer": "ipython3",
   "version": "3.6.4"
  }
 },
 "nbformat": 4,
 "nbformat_minor": 2
}
